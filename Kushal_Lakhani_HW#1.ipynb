{
  "nbformat": 4,
  "nbformat_minor": 0,
  "metadata": {
    "colab": {
      "provenance": []
    },
    "kernelspec": {
      "name": "python3",
      "display_name": "Python 3"
    },
    "language_info": {
      "name": "python"
    }
  },
  "cells": [
    {
      "cell_type": "markdown",
      "source": [
        "**Instructions**: Please answer each question and then write the code that supports you answer unless the question requires no code.  "
      ],
      "metadata": {
        "id": "pgbC28DsB7D7"
      }
    },
    {
      "cell_type": "markdown",
      "source": [
        "0. Write some code that prints out: Hello World! \n",
        "\n",
        "1. What is the difference between primitive and non-primitive data types? \n",
        "\n",
        "2. What are the primitive data types we have discussed? Create and print each type. \n",
        "\n",
        "3. What happens if you use a keyword as a variable name? Please give an example in code. \n",
        "\n",
        "4. How can I determine what type of data has been assigned to my variable? Please demonstrate with code. \n",
        "\n",
        "5.  If you run a 20 kilometer race in 22 minutes 22 seconds, what is your average pace (time per mile in minutes and seconds)? What is your average speed in miles per hour? (Hint 1: 1 kilometer = 0.621371 miles. \n",
        "<br> \n",
        "Hint 2: $average\\ speed = \\frac{distance}{time}$"
      ],
      "metadata": {
        "id": "rgCapTxmCWpV"
      }
    },
    {
      "cell_type": "markdown",
      "source": [
        "0. Write some code that prints out: Hello World! "
      ],
      "metadata": {
        "id": "UFSoWbj4Buay"
      }
    },
    {
      "cell_type": "code",
      "source": [
        "\n",
        "print('Hello World!') "
      ],
      "metadata": {
        "colab": {
          "base_uri": "https://localhost:8080/"
        },
        "id": "jB6HMXJp410K",
        "outputId": "fd4625a4-2cb9-4954-8885-a532b16b286d"
      },
      "execution_count": null,
      "outputs": [
        {
          "output_type": "stream",
          "name": "stdout",
          "text": [
            "Hello World!\n"
          ]
        }
      ]
    },
    {
      "cell_type": "markdown",
      "source": [
        "1. What is the difference between primitive and non-primitive data types?\n",
        "\n",
        "\n",
        "\n",
        "\n",
        "Solution: At timestamp **14:40** **Class Recording from November 27, 2022** "
      ],
      "metadata": {
        "id": "F20bQKkRTsah"
      }
    },
    {
      "cell_type": "markdown",
      "source": [
        "Primitive Data Types: \n",
        "\n",
        "values / characters \n",
        "\n",
        "1. Strings \n",
        "2. Ints \n",
        "3. Floats \n",
        "4. Boolean \n",
        "\n",
        "Non-Primitve Data Types: store collections\n",
        "1. Lists \n",
        "2. Tuples\n",
        "3. Sets \n",
        "4. Dictionaries "
      ],
      "metadata": {
        "id": "JVet6sfO5QMw"
      }
    },
    {
      "cell_type": "markdown",
      "source": [
        "2. What are the primitive data types we have discussed? Create and print each type. \n"
      ],
      "metadata": {
        "id": "28j1nxF_Tvy_"
      }
    },
    {
      "cell_type": "code",
      "source": [
        "a = 5 #int \n",
        "b = 5.555 # float \n",
        "c = 'Five' # string \n",
        "d = True # boolean \n",
        "\n",
        "print(f'{a} is an int,\\n {b} is a float,\\n {c} is string and {d} is a boolean')"
      ],
      "metadata": {
        "colab": {
          "base_uri": "https://localhost:8080/"
        },
        "id": "McqPAyrV5mCF",
        "outputId": "2d900563-392e-4154-d10e-faf32367e156"
      },
      "execution_count": null,
      "outputs": [
        {
          "output_type": "stream",
          "name": "stdout",
          "text": [
            "5 is an int,\n",
            " 5.555 is a float,\n",
            " Five is string and True is a boolean\n"
          ]
        }
      ]
    },
    {
      "cell_type": "markdown",
      "source": [
        "3. What happens if you use a keyword as a variable name? Please give an example in code."
      ],
      "metadata": {
        "id": "YROZDxgBT9fG"
      }
    },
    {
      "cell_type": "code",
      "source": [
        "#The function will no longer operate \n",
        "\n",
        "print('Hello')"
      ],
      "metadata": {
        "colab": {
          "base_uri": "https://localhost:8080/"
        },
        "id": "ASS9FON_6CIA",
        "outputId": "2ba73b00-5367-448c-9237-5ea74797bece"
      },
      "execution_count": null,
      "outputs": [
        {
          "output_type": "stream",
          "name": "stdout",
          "text": [
            "Hello\n"
          ]
        }
      ]
    },
    {
      "cell_type": "markdown",
      "source": [
        "4. How can I determine what type of data has been assigned to my variable? Please demonstrate with code. "
      ],
      "metadata": {
        "id": "5YyDB844UA3E"
      }
    },
    {
      "cell_type": "code",
      "source": [
        "a =  5\n",
        "\n",
        "type(a)"
      ],
      "metadata": {
        "colab": {
          "base_uri": "https://localhost:8080/"
        },
        "id": "MDcOP6N56WY1",
        "outputId": "f769cef8-c64d-4358-d5df-fac17ab9a60f"
      },
      "execution_count": null,
      "outputs": [
        {
          "output_type": "execute_result",
          "data": {
            "text/plain": [
              "int"
            ]
          },
          "metadata": {},
          "execution_count": 2
        }
      ]
    },
    {
      "cell_type": "markdown",
      "source": [
        "5.  If you run a 20 kilometer race in 22 minutes 22 seconds,(not realistic - just for the exercise) what is your average pace (time per mile in minutes and seconds)? What is your average speed in miles per hour? (Hint 1: 1 kilometer = 0.621371 miles. \n",
        "<br> \n",
        "Hint 2: $average\\ speed = \\frac{distance}{time}$"
      ],
      "metadata": {
        "id": "_O9M4xDoUEZu"
      }
    },
    {
      "cell_type": "code",
      "source": [
        "# Distance in kilometers\n",
        "distance_km = 20\n",
        "\n",
        "# Time in minutes and seconds\n",
        "time_min = 22\n",
        "time_sec = 22\n",
        "\n",
        "# Convert distance from kilometers to miles\n",
        "distance_miles = distance_km * 0.621371\n",
        "\n",
        "# Calculate average pace in seconds per mile\n",
        "pace_sec_per_mile = time_sec / distance_miles\n",
        "\n",
        "# Convert pace to minutes and seconds\n",
        "pace_min = int(pace_sec_per_mile / 60)\n",
        "pace_sec = pace_sec_per_mile % 60\n",
        "\n",
        "# Calculate total time in hours\n",
        "time_hours = time_min / 60 + time_sec / 3600\n",
        "\n",
        "# Calculate average speed in miles per hour\n",
        "average_speed = distance_miles / time_hours\n",
        "\n",
        "# Print results\n",
        "print(\"Average pace: {} minutes and {} seconds per mile\".format(pace_min, pace_sec))\n",
        "print(\"Average speed: {} miles per hour\".format(round(average_speed, 3)))\n"
      ],
      "metadata": {
        "id": "WSysmgPL9nQ1",
        "colab": {
          "base_uri": "https://localhost:8080/"
        },
        "outputId": "2787e919-4f55-4b76-8377-dcaa9cf72b41"
      },
      "execution_count": 21,
      "outputs": [
        {
          "output_type": "stream",
          "name": "stdout",
          "text": [
            "Average pace: 0 minutes and 1.7702789476818197 seconds per mile\n",
            "Average speed: 33.337 miles per hour\n"
          ]
        }
      ]
    },
    {
      "cell_type": "code",
      "source": [],
      "metadata": {
        "id": "-aNowIDWNJhQ"
      },
      "execution_count": null,
      "outputs": []
    }
  ]
}