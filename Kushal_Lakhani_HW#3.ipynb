{
 "cells": [
  {
   "cell_type": "code",
   "execution_count": null,
   "id": "78885e83",
   "metadata": {},
   "outputs": [],
   "source": [
    "\"\"\"Problem 1: Write a Program in python that helps to build a strong password\n",
    "1. The program asks for a password by prompting the user to enter their password.\n",
    "2. The program checks if the length of the password is less than 8 characters. If it is, it prints a message stating that the password is too short and exits the program.\n",
    "3. The program checks if the password contains at least one uppercase letter and one lowercase letter. If it does not, it prints a message stating that the password is not strong enough and exits the program.\n",
    "4. The program checks if the password contains at least one digit and one special character. If it does not, it prints a message stating that the password is not strong enough and exits the program.\n",
    "5. If the password passes all the above checks, the program prints a message stating that the password is strong.\n",
    "HINT 1: the following functions may be helpful .isupper()\n",
    ".islower()\n",
    ".isdigit()\n",
    ".isalnum()\n",
    "Review the documentation for more information: https://docs.python.org/3/library/string.html\n",
    "HINT2: You can use the command exit() to stop a program.\n",
    "For example: Build a program that checks if a number is equal to 5 or not:\n",
    "num = input(‘Enter a number’) if num != 5:\n",
    "print(‘The number must be equal to five’) exit ()\"\"\""
   ]
  },
  {
   "cell_type": "code",
   "execution_count": 2,
   "id": "7a235eed",
   "metadata": {},
   "outputs": [
    {
     "name": "stdout",
     "output_type": "stream",
     "text": [
      "Enter your passwordTheGreatestKushal#5\n",
      "Password is tring enough\n"
     ]
    }
   ],
   "source": [
    "#1. Asking the user to input password\n",
    "pass_word = input(\"Enter your password\")\n",
    "flag = False\n",
    "\n",
    "#2. Checking length for 8 or more characters\n",
    "\n",
    "if len(pass_word)<8:\n",
    "    print(\"The password is too short\")\n",
    "    quit()\n",
    "    \n",
    "# 3. The program checks if the password contains at least one uppercase letter and one lowercase letter. \n",
    "# If it does not, it prints a message stating that the password is not strong enough and exits the program.\n",
    "\n",
    "    \n",
    "for pas in pass_word:\n",
    "    if pas.isupper():\n",
    "        flag = True\n",
    "        break\n",
    "        \n",
    "        \n",
    "if flag:\n",
    "    flag = False\n",
    "    for pas in pass_word:\n",
    "        if pas.islower():\n",
    "            flag = True\n",
    "            break\n",
    "\n",
    "# 4. The program checks if the password contains at least one digit and one special character. \n",
    "# If it does not, it prints a message stating that the password is not strong enough and exits the program. \n",
    "            \n",
    "if flag:\n",
    "    flag = False\n",
    "    for pas in pass_word:\n",
    "        if pas.isdigit():\n",
    "            flag = True\n",
    "            break\n",
    "\n",
    "if not flag:\n",
    "    print(\"The password is not strong enough\")\n",
    "else:\n",
    "    print(\"Password is strong enough\")\n",
    "    \n"
   ]
  },
  {
   "cell_type": "code",
   "execution_count": null,
   "id": "fd55202d",
   "metadata": {},
   "outputs": [],
   "source": []
  },
  {
   "cell_type": "code",
   "execution_count": 2,
   "id": "f5f9ed14",
   "metadata": {},
   "outputs": [
    {
     "name": "stdout",
     "output_type": "stream",
     "text": [
      "Enter any sentenceKushal is great\n",
      "Kushal-is-great\n"
     ]
    }
   ],
   "source": [
    "\"\"\"Problem 2: Operations with Strings\n",
    "Task: You are given any string. Split the strong on a “ “ (space) delimiter and join using a – hyphen.\n",
    "Sample input: this is a string Output should be: this-is-a-string\"\"\"\n",
    "\n",
    "string1 = input(\"Enter any sentence\")\n",
    "print(\"-\".join(string1.split(\" \")))\n",
    "\n"
   ]
  },
  {
   "cell_type": "code",
   "execution_count": 2,
   "id": "bf8f3b31",
   "metadata": {},
   "outputs": [
    {
     "name": "stdout",
     "output_type": "stream",
     "text": [
      "john.smith @gmail.com\n",
      "jane.doe@hotmail.com\n",
      "johndoe@yahoo.com\n",
      "jane_doe123@outlook.com\n",
      "jane.doe.456@aol.com\n"
     ]
    }
   ],
   "source": [
    "#Problem 3:\n",
    "\n",
    "list_of_emails = [\" John.smith @gmail.com \" , \"jane.doe@hotmail.com \" , \" johndoe@yahoo.com\" , \"jane_doe123@outlook.com\" , \"jane.doe.456@aol.com \"]\n",
    "\n",
    "for emails in list_of_emails:\n",
    "    email = emails.lower()\n",
    "    email = email.strip(\" \")\n",
    "    print(email)"
   ]
  },
  {
   "cell_type": "code",
   "execution_count": 1,
   "id": "3427b9bc",
   "metadata": {},
   "outputs": [
    {
     "name": "stdout",
     "output_type": "stream",
     "text": [
      "Number is not less than 8\n"
     ]
    }
   ],
   "source": [
    "number = 12\n",
    "    \n",
    "if number < 8:  \n",
    "    # exits the program\n",
    "    exit()    \n",
    "else:\n",
    "    print(\"Number is not less than 8\")"
   ]
  },
  {
   "cell_type": "markdown",
   "id": "378402cf",
   "metadata": {},
   "source": [
    "## Optinal Exercise"
   ]
  },
  {
   "cell_type": "code",
   "execution_count": null,
   "id": "69419857",
   "metadata": {},
   "outputs": [],
   "source": [
    "#1. Find the longest word in the sentence"
   ]
  },
  {
   "cell_type": "code",
   "execution_count": 42,
   "id": "b87f9243",
   "metadata": {},
   "outputs": [
    {
     "name": "stdout",
     "output_type": "stream",
     "text": [
      "Enter any sentence of your choosingI really dont know what to do\n",
      "The longest word is \"really\"\n"
     ]
    }
   ],
   "source": [
    "# Here we take input from the user\n",
    "\n",
    "sen = input(\"Enter any sentence of your choosing\")\n",
    "\n",
    "# we will now split the sentence and find the longest word using list\n",
    "\n",
    "list1 = sen.split()\n",
    "list2 = [len(x) for x in list1]\n",
    "list3 = list2.copy()\n",
    "list3.sort()\n",
    "m = list3[-1]\n",
    "\n",
    "print(f'The longest word is \\\"{list1[list2.index(m)]}\\\"')\n"
   ]
  },
  {
   "cell_type": "code",
   "execution_count": 6,
   "id": "d19dd352",
   "metadata": {},
   "outputs": [
    {
     "name": "stdout",
     "output_type": "stream",
     "text": [
      "Enter any number123\n",
      "6\n"
     ]
    }
   ],
   "source": [
    "# Write a program that asks the user for a number and prints the sum of the digits of that number\n",
    "\n",
    "num = int(input(\"Enter any number\"))\n",
    "# sum will hel find sum of the digits\n",
    "sum = 0\n",
    "\n",
    "while num>=1:\n",
    "    a = num%10\n",
    "    sum=sum+ a\n",
    "    num = int(num/10)\n",
    "    \n",
    "print(sum)"
   ]
  },
  {
   "cell_type": "code",
   "execution_count": 17,
   "id": "3af732ec",
   "metadata": {},
   "outputs": [
    {
     "name": "stdout",
     "output_type": "stream",
     "text": [
      "Enter a number42\n",
      "The prime number smaller than the given number is 41\n"
     ]
    }
   ],
   "source": [
    "# Write a program that asks the user for a number and prints the prime factorization of that\n",
    "# number (i.e., the factors of the number that are prime numbers).\n",
    "\n",
    "# We are writing a program that will determine if the number is prime or not. If its prime it will print that number\n",
    "# otherwise it will print print prime numbers smaller and greater than the number\n",
    "\n",
    "# A number is prime when its divisble by itself or 1\n",
    "\n",
    "num = int(input(\"Enter a number\"))\n",
    "prime=True\n",
    "\n",
    "for i in range(2,num):\n",
    "    if num%i==0:\n",
    "        prime = False\n",
    "    break\n",
    "    \n",
    "if prime:\n",
    "    print(f\"The entered umber {num} is prime\")\n",
    "else:\n",
    "    while (num)>1:\n",
    "        num = num-1\n",
    "        for i in range(2,num):\n",
    "            if num%i==0:\n",
    "                prime = True\n",
    "        if not prime:\n",
    "            print(f\"The prime number smaller than the given number is {num}\")\n",
    "            break\n",
    "        else:\n",
    "            continue\n",
    "                  \n",
    "            \n",
    "        \n",
    "\n",
    "\n"
   ]
  },
  {
   "cell_type": "code",
   "execution_count": 40,
   "id": "70acf465",
   "metadata": {},
   "outputs": [
    {
     "name": "stdout",
     "output_type": "stream",
     "text": [
      "Enter any word or sentence of your choosingKushal\n",
      "lahsuK\n"
     ]
    }
   ],
   "source": [
    "# Write a program that asks the user for a sentence and prints the sentence with all the words\n",
    "# reversed (e.g., if the user enters \"I love dogs\", the program should print \"I evol sgod\").\n",
    "\n",
    "import operator\n",
    "from functools import reduce\n",
    "\n",
    "word=input(\"Enter any word or sentence of your choosing\")\n",
    "list1 = list(word)\n",
    "list2 = list1[ : : -1]\n",
    "word2 = reduce(operator.add,list2)\n",
    "print(word2)"
   ]
  },
  {
   "cell_type": "code",
   "execution_count": 38,
   "id": "5ea0732c",
   "metadata": {},
   "outputs": [
    {
     "name": "stdout",
     "output_type": "stream",
     "text": [
      "Enter any word or sentence of your choosingA Kushal A is A Great A\n",
      "The words that appear onlyonce in the sentence are given below\n",
      "Kushal\n",
      "is\n",
      "Great\n"
     ]
    }
   ],
   "source": [
    "# Write a program that asks the user for a sentence and prints the number of unique words in the\n",
    "# sentence (i.e., the number of words that only appear once in the sentence).\n",
    "\n",
    "word=input(\"Enter any word or sentence of your choosing\")\n",
    "list1 = word.split(\" \")\n",
    "list2 = []\n",
    "\n",
    "while len(list1)>0:\n",
    "    marker = list1[0]\n",
    "    if list1.count(list1[0])==1:\n",
    "        list2.append(list1[0])\n",
    "    list1 = [word for word in list1 if word!=list1[0]]\n",
    "    \n",
    "print(\"The words that appear onlyonce in the sentence are given below\")\n",
    "for word in list2:\n",
    "    print(word)\n",
    "    "
   ]
  },
  {
   "cell_type": "code",
   "execution_count": null,
   "id": "e895b9b6",
   "metadata": {},
   "outputs": [],
   "source": []
  }
 ],
 "metadata": {
  "kernelspec": {
   "display_name": "Python 3 (ipykernel)",
   "language": "python",
   "name": "python3"
  },
  "language_info": {
   "codemirror_mode": {
    "name": "ipython",
    "version": 3
   },
   "file_extension": ".py",
   "mimetype": "text/x-python",
   "name": "python",
   "nbconvert_exporter": "python",
   "pygments_lexer": "ipython3",
   "version": "3.9.12"
  }
 },
 "nbformat": 4,
 "nbformat_minor": 5
}
