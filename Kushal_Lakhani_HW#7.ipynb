{
 "cells": [
  {
   "cell_type": "markdown",
   "metadata": {
    "id": "gS5i87PDxM28"
   },
   "source": [
    "# Problem Statement: \n",
    "\n",
    "A local community college is exploring the relationship between mathematics anxiety and final exam scores in a beginning mathematics course. They have asked your firm to examine the data and eventually to determine if mathematics anxiety is reliably correlated with the final mathematics scores. \n",
    "\n",
    "You are a part of the data science team. As a fresher, the data has been cleaned for you and the team has assigned you to conduct the Exploratory Data Analysis (EDA). \n",
    "\n",
    "You need to answer the following questions in your analysis: \n",
    "\n",
    "1. Which Gender has the higher final scores? \n",
    "2. Which Gender has the higher anxiety? \n",
    "\n",
    "3. Which instructor has highest anxiety scores? \n",
    "4. Which instructor has highest anxiety score for each gender?\n",
    "\n",
    "5. Are there any outliers for anxiety or final score? \n",
    "\n",
    "6. What are the mean final and anxiety scores for each instructor in general?\n",
    "\n",
    "7. What are the mean final and anxiety scores for each instructor by gender?\n",
    "\n",
    "8. Using skew(), are final and anxiety skewed? \n",
    "\n",
    "9. Using skew(), which instructors final or anxiety scores are skewed?\n",
    "\n",
    "10. Which instructor seems better for a Female with high anxiety? \n",
    "\n",
    "11. Which instructor seems better for a Male with high anxiety?"
   ]
  },
  {
   "cell_type": "markdown",
   "metadata": {
    "id": "nrtdGbJzcO4E"
   },
   "source": [
    "# NOTE: \n",
    "\n",
    "1. Be sure to include clear, concise commenting with your code\n",
    "2. For each cell, also include a high-level explanation in a markdown cell. \n",
    "3. Include a summary.\n"
   ]
  },
  {
   "cell_type": "markdown",
   "metadata": {
    "id": "g5Xm2fvtxPxY"
   },
   "source": [
    "# Data Dictionary \n",
    "\n",
    "| Variable|Varible Type| Range |\n",
    "|---------|------------|-------|\n",
    "| Instructor | Categorical | A,B,C,D|\n",
    "|Final|Numerical|0-100|\n",
    "|Anxiety|Numerical|0-100|\n",
    "|Gender|Categorical|Male/Female| "
   ]
  },
  {
   "cell_type": "code",
   "execution_count": null,
   "metadata": {
    "id": "pZplEaQXdWSz"
   },
   "outputs": [],
   "source": []
  },
  {
   "cell_type": "markdown",
   "metadata": {
    "id": "0TDeAMV776vQ"
   },
   "source": [
    "# Data URL \n",
    "\n",
    "https://raw.githubusercontent.com/JD-DataScienceProjects/Careerera_Projects/main/ANXIETY.csv"
   ]
  },
  {
   "cell_type": "code",
   "execution_count": 50,
   "metadata": {
    "id": "9sa7wN1M1BPe"
   },
   "outputs": [],
   "source": [
    "import pandas as pd\n",
    "import matplotlib.pyplot as plt\n",
    "import seaborn as sns\n",
    "\n",
    "df = pd.read_csv(\"https://raw.githubusercontent.com/JD-DataScienceProjects/Careerera_Projects/main/ANXIETY.csv\")"
   ]
  },
  {
   "cell_type": "code",
   "execution_count": 42,
   "metadata": {},
   "outputs": [
    {
     "data": {
      "text/html": [
       "<div>\n",
       "<style scoped>\n",
       "    .dataframe tbody tr th:only-of-type {\n",
       "        vertical-align: middle;\n",
       "    }\n",
       "\n",
       "    .dataframe tbody tr th {\n",
       "        vertical-align: top;\n",
       "    }\n",
       "\n",
       "    .dataframe thead th {\n",
       "        text-align: right;\n",
       "    }\n",
       "</style>\n",
       "<table border=\"1\" class=\"dataframe\">\n",
       "  <thead>\n",
       "    <tr style=\"text-align: right;\">\n",
       "      <th></th>\n",
       "      <th>Instructor</th>\n",
       "      <th>Final</th>\n",
       "      <th>Anxiety</th>\n",
       "      <th>Gender</th>\n",
       "    </tr>\n",
       "  </thead>\n",
       "  <tbody>\n",
       "    <tr>\n",
       "      <th>0</th>\n",
       "      <td>A</td>\n",
       "      <td>35</td>\n",
       "      <td>93.552</td>\n",
       "      <td>Female</td>\n",
       "    </tr>\n",
       "    <tr>\n",
       "      <th>1</th>\n",
       "      <td>A</td>\n",
       "      <td>70</td>\n",
       "      <td>95.164</td>\n",
       "      <td>Male</td>\n",
       "    </tr>\n",
       "    <tr>\n",
       "      <th>2</th>\n",
       "      <td>A</td>\n",
       "      <td>70</td>\n",
       "      <td>83.880</td>\n",
       "      <td>Female</td>\n",
       "    </tr>\n",
       "    <tr>\n",
       "      <th>3</th>\n",
       "      <td>A</td>\n",
       "      <td>30</td>\n",
       "      <td>84.686</td>\n",
       "      <td>Male</td>\n",
       "    </tr>\n",
       "    <tr>\n",
       "      <th>4</th>\n",
       "      <td>A</td>\n",
       "      <td>92</td>\n",
       "      <td>82.268</td>\n",
       "      <td>Male</td>\n",
       "    </tr>\n",
       "  </tbody>\n",
       "</table>\n",
       "</div>"
      ],
      "text/plain": [
       "  Instructor  Final  Anxiety  Gender\n",
       "0          A     35   93.552  Female\n",
       "1          A     70   95.164    Male\n",
       "2          A     70   83.880  Female\n",
       "3          A     30   84.686    Male\n",
       "4          A     92   82.268    Male"
      ]
     },
     "execution_count": 42,
     "metadata": {},
     "output_type": "execute_result"
    }
   ],
   "source": [
    "df.head()"
   ]
  },
  {
   "cell_type": "markdown",
   "metadata": {},
   "source": [
    "1. Which Gender has the higher final scores?\n"
   ]
  },
  {
   "cell_type": "markdown",
   "metadata": {},
   "source": [
    "Here the question is asking for the higher final score. It means that we need to calculate overall which gender has done better in the tests and have the overall mean average marks.\n",
    "\n",
    "This can be achievd by finding the mean values of Males and Females separately and comparing them to find hwich gender has done better.\n",
    "\n"
   ]
  },
  {
   "cell_type": "code",
   "execution_count": 43,
   "metadata": {},
   "outputs": [
    {
     "data": {
      "text/plain": [
       "61.59615384615385"
      ]
     },
     "execution_count": 43,
     "metadata": {},
     "output_type": "execute_result"
    }
   ],
   "source": [
    "df_male = df[df['Gender']=='Male']\n",
    "\n",
    "df_male_mean = df_male['Final'].mean()\n",
    "df_male_mean"
   ]
  },
  {
   "cell_type": "code",
   "execution_count": 44,
   "metadata": {},
   "outputs": [
    {
     "data": {
      "text/plain": [
       "61.59615384615385"
      ]
     },
     "execution_count": 44,
     "metadata": {},
     "output_type": "execute_result"
    }
   ],
   "source": [
    "# Another way of doing the same thing is \n",
    "\n",
    "df[df['Gender']=='Male']['Final'].mean()"
   ]
  },
  {
   "cell_type": "code",
   "execution_count": 45,
   "metadata": {},
   "outputs": [
    {
     "data": {
      "text/plain": [
       "57.88235294117647"
      ]
     },
     "execution_count": 45,
     "metadata": {},
     "output_type": "execute_result"
    }
   ],
   "source": [
    "df_female = df[df['Gender']=='Female']\n",
    "\n",
    "df_female_mean = df_female['Final'].mean()\n",
    "df_female_mean"
   ]
  },
  {
   "cell_type": "code",
   "execution_count": 46,
   "metadata": {},
   "outputs": [
    {
     "data": {
      "text/plain": [
       "57.88235294117647"
      ]
     },
     "execution_count": 46,
     "metadata": {},
     "output_type": "execute_result"
    }
   ],
   "source": [
    "# Similaryly\n",
    "\n",
    "df[df['Gender']=='Female']['Final'].mean()"
   ]
  },
  {
   "cell_type": "code",
   "execution_count": 47,
   "metadata": {},
   "outputs": [
    {
     "name": "stdout",
     "output_type": "stream",
     "text": [
      "The Male gender has the higher final score\n"
     ]
    }
   ],
   "source": [
    "if df_male_mean>df_female_mean:\n",
    "    print(\"The Male gender has the higher final score\")\n",
    "else:\n",
    "    print(\"The Female gender has the higher final score\")"
   ]
  },
  {
   "cell_type": "markdown",
   "metadata": {},
   "source": [
    "From the above it is clear that the Male gender has the higher final score"
   ]
  },
  {
   "cell_type": "markdown",
   "metadata": {},
   "source": [
    "2. Which Gender has the higher anxiety?\n",
    "\n",
    "Here we shall use the same logic that we have used in the above question."
   ]
  },
  {
   "cell_type": "code",
   "execution_count": 48,
   "metadata": {},
   "outputs": [
    {
     "data": {
      "text/plain": [
       "74.38373076923077"
      ]
     },
     "execution_count": 48,
     "metadata": {},
     "output_type": "execute_result"
    }
   ],
   "source": [
    "df_male = df[df['Gender']=='Male']\n",
    "\n",
    "df_male_mean = df_male['Anxiety'].mean()\n",
    "df_male_mean"
   ]
  },
  {
   "cell_type": "code",
   "execution_count": 49,
   "metadata": {},
   "outputs": [
    {
     "data": {
      "text/plain": [
       "74.30282352941177"
      ]
     },
     "execution_count": 49,
     "metadata": {},
     "output_type": "execute_result"
    }
   ],
   "source": [
    "df_female = df[df['Gender']=='Female']\n",
    "\n",
    "df_female_mean = df_female['Anxiety'].mean()\n",
    "df_female_mean"
   ]
  },
  {
   "cell_type": "code",
   "execution_count": 14,
   "metadata": {},
   "outputs": [
    {
     "name": "stdout",
     "output_type": "stream",
     "text": [
      "74.38373076923077\n",
      "74.30282352941177\n"
     ]
    }
   ],
   "source": [
    "# Another way of doing the same\n",
    "\n",
    "print(df[df['Gender']=='Male']['Anxiety'].mean())\n",
    "print(df[df['Gender']=='Female']['Anxiety'].mean())"
   ]
  },
  {
   "cell_type": "code",
   "execution_count": 15,
   "metadata": {},
   "outputs": [
    {
     "name": "stdout",
     "output_type": "stream",
     "text": [
      "The Male gender has the higher Anxiety score\n"
     ]
    }
   ],
   "source": [
    "if df_male_mean>df_female_mean:\n",
    "    print(\"The Male gender has the higher Anxiety score\")\n",
    "else:\n",
    "    print(\"The Female gender has the higher Anxiety score\")"
   ]
  },
  {
   "cell_type": "markdown",
   "metadata": {},
   "source": [
    "3. Which instructor has highest anxiety scores\n",
    "\n",
    "Here again we shall use the same logic but the only difference is that we shall do the same for different instructors. Here, rather than applying the same logic 4 times we shall use simple program to achieve the same result quickly.\n",
    "\n",
    "We shall write the program considering there are 'n' number of unque instructors so that the program can be used under any circumstances"
   ]
  },
  {
   "cell_type": "code",
   "execution_count": 106,
   "metadata": {},
   "outputs": [],
   "source": [
    "inst = df['Instructor'].unique().tolist()\n",
    "inst\n",
    "dict_inst = {}"
   ]
  },
  {
   "cell_type": "code",
   "execution_count": 107,
   "metadata": {},
   "outputs": [
    {
     "name": "stdout",
     "output_type": "stream",
     "text": [
      "{'A': 97.582, 'B': 91.134, 'C': 89.522, 'D': 95.97}\n",
      "D\n"
     ]
    }
   ],
   "source": [
    "for instr in inst:\n",
    "    dict_inst[instr] = df[df['Instructor']==instr]['Anxiety'].max()\n",
    " \n",
    "print(dict_inst)\n",
    "print(max(dict_inst))"
   ]
  },
  {
   "cell_type": "code",
   "execution_count": 25,
   "metadata": {},
   "outputs": [
    {
     "data": {
      "text/html": [
       "<div>\n",
       "<style scoped>\n",
       "    .dataframe tbody tr th:only-of-type {\n",
       "        vertical-align: middle;\n",
       "    }\n",
       "\n",
       "    .dataframe tbody tr th {\n",
       "        vertical-align: top;\n",
       "    }\n",
       "\n",
       "    .dataframe thead th {\n",
       "        text-align: right;\n",
       "    }\n",
       "</style>\n",
       "<table border=\"1\" class=\"dataframe\">\n",
       "  <thead>\n",
       "    <tr style=\"text-align: right;\">\n",
       "      <th></th>\n",
       "      <th>Final</th>\n",
       "      <th>Anxiety</th>\n",
       "      <th>Gender</th>\n",
       "    </tr>\n",
       "    <tr>\n",
       "      <th>Instructor</th>\n",
       "      <th></th>\n",
       "      <th></th>\n",
       "      <th></th>\n",
       "    </tr>\n",
       "  </thead>\n",
       "  <tbody>\n",
       "    <tr>\n",
       "      <th>A</th>\n",
       "      <td>100</td>\n",
       "      <td>97.582</td>\n",
       "      <td>Male</td>\n",
       "    </tr>\n",
       "    <tr>\n",
       "      <th>B</th>\n",
       "      <td>95</td>\n",
       "      <td>91.134</td>\n",
       "      <td>Male</td>\n",
       "    </tr>\n",
       "    <tr>\n",
       "      <th>C</th>\n",
       "      <td>95</td>\n",
       "      <td>89.522</td>\n",
       "      <td>Male</td>\n",
       "    </tr>\n",
       "    <tr>\n",
       "      <th>D</th>\n",
       "      <td>100</td>\n",
       "      <td>95.970</td>\n",
       "      <td>Male</td>\n",
       "    </tr>\n",
       "  </tbody>\n",
       "</table>\n",
       "</div>"
      ],
      "text/plain": [
       "            Final  Anxiety Gender\n",
       "Instructor                       \n",
       "A             100   97.582   Male\n",
       "B              95   91.134   Male\n",
       "C              95   89.522   Male\n",
       "D             100   95.970   Male"
      ]
     },
     "execution_count": 25,
     "metadata": {},
     "output_type": "execute_result"
    }
   ],
   "source": [
    "# A better way of doing it\n",
    "\n",
    "ans = df.groupby(['Instructor']).max()\n",
    "ans"
   ]
  },
  {
   "cell_type": "markdown",
   "metadata": {},
   "source": [
    "From the above it is clear that the anxiety is highest for the Instructor D"
   ]
  },
  {
   "cell_type": "markdown",
   "metadata": {},
   "source": [
    "4. Which instructor has highest anxiety score for each gender?\n",
    "\n",
    "Here we shall use the same logic that we aplied in the above question. However, we shall form a dictionary of dictionaries as done below\n",
    "\n"
   ]
  },
  {
   "cell_type": "code",
   "execution_count": 54,
   "metadata": {},
   "outputs": [
    {
     "name": "stdout",
     "output_type": "stream",
     "text": [
      "{'A': {'Male': 97.582, 'Female': 93.552}, 'B': {'Male': 91.134, 'Female': 91.134}, 'C': {'Male': 82.268, 'Female': 89.522}, 'D': {'Male': 72.596, 'Female': 95.97}}\n",
      "D\n"
     ]
    }
   ],
   "source": [
    "inst = df['Instructor'].unique().tolist()\n",
    "inst\n",
    "dict_inst = {}\n",
    "\n",
    "for instr in inst:\n",
    "    dict_inst[instr] = {'Male':df[(df['Instructor']==instr) & (df['Gender']=='Male')]\n",
    "                     ['Anxiety'].max(),'Female':df[(df['Instructor']==instr) & (df['Gender']=='Female')]\n",
    "                        ['Anxiety'].max()}\n",
    "                     \n",
    "print(dict_inst)\n",
    "print(max(dict_inst))\n"
   ]
  },
  {
   "cell_type": "code",
   "execution_count": 19,
   "metadata": {},
   "outputs": [
    {
     "data": {
      "text/html": [
       "<div>\n",
       "<style scoped>\n",
       "    .dataframe tbody tr th:only-of-type {\n",
       "        vertical-align: middle;\n",
       "    }\n",
       "\n",
       "    .dataframe tbody tr th {\n",
       "        vertical-align: top;\n",
       "    }\n",
       "\n",
       "    .dataframe thead th {\n",
       "        text-align: right;\n",
       "    }\n",
       "</style>\n",
       "<table border=\"1\" class=\"dataframe\">\n",
       "  <thead>\n",
       "    <tr style=\"text-align: right;\">\n",
       "      <th></th>\n",
       "      <th></th>\n",
       "      <th>Anxiety</th>\n",
       "    </tr>\n",
       "    <tr>\n",
       "      <th>Instructor</th>\n",
       "      <th>Gender</th>\n",
       "      <th></th>\n",
       "    </tr>\n",
       "  </thead>\n",
       "  <tbody>\n",
       "    <tr>\n",
       "      <th rowspan=\"2\" valign=\"top\">A</th>\n",
       "      <th>Female</th>\n",
       "      <td>93.552</td>\n",
       "    </tr>\n",
       "    <tr>\n",
       "      <th>Male</th>\n",
       "      <td>97.582</td>\n",
       "    </tr>\n",
       "    <tr>\n",
       "      <th rowspan=\"2\" valign=\"top\">B</th>\n",
       "      <th>Female</th>\n",
       "      <td>91.134</td>\n",
       "    </tr>\n",
       "    <tr>\n",
       "      <th>Male</th>\n",
       "      <td>91.134</td>\n",
       "    </tr>\n",
       "    <tr>\n",
       "      <th rowspan=\"2\" valign=\"top\">C</th>\n",
       "      <th>Female</th>\n",
       "      <td>89.522</td>\n",
       "    </tr>\n",
       "    <tr>\n",
       "      <th>Male</th>\n",
       "      <td>82.268</td>\n",
       "    </tr>\n",
       "    <tr>\n",
       "      <th rowspan=\"2\" valign=\"top\">D</th>\n",
       "      <th>Female</th>\n",
       "      <td>95.970</td>\n",
       "    </tr>\n",
       "    <tr>\n",
       "      <th>Male</th>\n",
       "      <td>72.596</td>\n",
       "    </tr>\n",
       "  </tbody>\n",
       "</table>\n",
       "</div>"
      ],
      "text/plain": [
       "                   Anxiety\n",
       "Instructor Gender         \n",
       "A          Female   93.552\n",
       "           Male     97.582\n",
       "B          Female   91.134\n",
       "           Male     91.134\n",
       "C          Female   89.522\n",
       "           Male     82.268\n",
       "D          Female   95.970\n",
       "           Male     72.596"
      ]
     },
     "execution_count": 19,
     "metadata": {},
     "output_type": "execute_result"
    }
   ],
   "source": [
    "# A better way of doing the same is \n",
    "\n",
    "group = df.groupby(['Instructor','Gender'])\n",
    "result = group[['Anxiety']].max()\n",
    "result"
   ]
  },
  {
   "cell_type": "markdown",
   "metadata": {},
   "source": [
    " The highest Anxiety score for Males is for A and\n",
    "  The highest Anxiety score for Females is for D "
   ]
  },
  {
   "cell_type": "markdown",
   "metadata": {},
   "source": [
    "5. Are there any outliers for anxiety or final score?\n",
    "\n",
    "By definiton outliers are values which are outside lower outlier values and higher outlier values. In order to find the outliers we need to use the formula\n",
    "\n",
    "lower_outliers = q1-1.5*IQR\n",
    "upper_outliers = q3+1.5*IQR\n",
    "\n",
    "where q1, q3 and IQR are 25% , 75% and Interquantile Range\n",
    "\n",
    "It can be done as shown below\n",
    "\n"
   ]
  },
  {
   "cell_type": "code",
   "execution_count": 109,
   "metadata": {},
   "outputs": [
    {
     "name": "stdout",
     "output_type": "stream",
     "text": [
      "Final     -20.000\n",
      "Anxiety    48.416\n",
      "dtype: float64\n",
      "Final      140.000\n",
      "Anxiety    106.448\n",
      "dtype: float64\n",
      "            Final     Anxiety\n",
      "count  101.000000  101.000000\n",
      "mean    59.851485   75.008713\n",
      "std     22.876794   15.651856\n",
      "min     10.000000   10.000000\n",
      "25%     40.000000   70.178000\n",
      "50%     65.000000   79.044000\n",
      "75%     80.000000   84.686000\n",
      "max    100.000000   97.582000\n"
     ]
    }
   ],
   "source": [
    "q1 = df.quantile(0.25)\n",
    "q3 = df.quantile(0.75)\n",
    "\n",
    "IQR = q3-q1\n",
    "\n",
    "lower_outliers = q1-1.5*IQR\n",
    "upper_outliers = q3+1.5*IQR\n",
    "\n",
    "print(lower_outliers)\n",
    "print(upper_outliers)\n",
    "\n",
    "print(df.describe())"
   ]
  },
  {
   "cell_type": "raw",
   "metadata": {},
   "source": [
    "From the above data it is clear that the  FINAL  values don't have any outliers as \n",
    "for Final the range is -20 to 140 and the minumum and maximum vakues lie within the same range.\n",
    "\n",
    "The minimum value for Final is 10 and the max value is 100 and both are within range.\n",
    "\n",
    "However when you observe Anxiety you see that te minimum value is 10 and the max value is 97.58. \n",
    "So there are no upper outliers but there will be lower outliers and they can be found as\n",
    "\n"
   ]
  },
  {
   "cell_type": "code",
   "execution_count": 110,
   "metadata": {},
   "outputs": [
    {
     "data": {
      "text/plain": [
       "[10.0, 43.58, 20.206, 27.46, 37.132, 34.714]"
      ]
     },
     "execution_count": 110,
     "metadata": {},
     "output_type": "execute_result"
    }
   ],
   "source": [
    "anx_outlier =df[df['Anxiety']< 48.416]['Anxiety'].tolist()\n",
    "anx_outlier"
   ]
  },
  {
   "cell_type": "code",
   "execution_count": 51,
   "metadata": {},
   "outputs": [
    {
     "name": "stderr",
     "output_type": "stream",
     "text": [
      "/Users/kushal/opt/anaconda3/lib/python3.9/site-packages/seaborn/_decorators.py:36: FutureWarning: Pass the following variable as a keyword arg: x. From version 0.12, the only valid positional argument will be `data`, and passing other arguments without an explicit keyword will result in an error or misinterpretation.\n",
      "  warnings.warn(\n"
     ]
    },
    {
     "data": {
      "image/png": "[encoded data removed]",
      "text/plain": [
       "<Figure size 432x288 with 1 Axes>"
      ]
     },
     "metadata": {
      "needs_background": "light"
     },
     "output_type": "display_data"
    }
   ],
   "source": [
    "# After doing the session on visualization it seems box plot is a better option as the qurstions is asking\n",
    "# are there any outliers. Its not specifically asking for the values so maybe we can do the following\n",
    "\n",
    "a = sns.boxplot(df['Anxiety'])"
   ]
  },
  {
   "cell_type": "code",
   "execution_count": 53,
   "metadata": {},
   "outputs": [
    {
     "name": "stderr",
     "output_type": "stream",
     "text": [
      "/Users/kushal/opt/anaconda3/lib/python3.9/site-packages/seaborn/_decorators.py:36: FutureWarning: Pass the following variable as a keyword arg: x. From version 0.12, the only valid positional argument will be `data`, and passing other arguments without an explicit keyword will result in an error or misinterpretation.\n",
      "  warnings.warn(\n"
     ]
    },
    {
     "data": {
      "image/png": "[encoded data removed]",
      "text/plain": [
       "<Figure size 432x288 with 1 Axes>"
      ]
     },
     "metadata": {
      "needs_background": "light"
     },
     "output_type": "display_data"
    }
   ],
   "source": [
    "b = sns.boxplot(df['Final'])"
   ]
  },
  {
   "cell_type": "markdown",
   "metadata": {},
   "source": [
    "6. What are the mean final and anxiety scores for each instructor in general?\n",
    "\n",
    "Here we will be reusing the code that we used for Q3 with minor adjustments as shown."
   ]
  },
  {
   "cell_type": "code",
   "execution_count": 55,
   "metadata": {},
   "outputs": [
    {
     "name": "stdout",
     "output_type": "stream",
     "text": [
      "{'A': {'Anxiety': 82.96, 'Final': 52.67}, 'B': {'Anxiety': 77.81, 'Final': 57.44}, 'C': {'Anxiety': 72.19, 'Final': 63.1}, 'D': {'Anxiety': 51.89, 'Final': 75.12}}\n"
     ]
    }
   ],
   "source": [
    "inst = df['Instructor'].unique().tolist()\n",
    "inst\n",
    "dict_inst = {}\n",
    "\n",
    "for instr in inst:\n",
    "    dict_inst[instr] = {'Anxiety':round(df[df['Instructor']==instr]['Anxiety'].mean(),2), \n",
    "                        'Final':round(df[df['Instructor']==instr]['Final'].mean(),2)}\n",
    " \n",
    "print(dict_inst)\n"
   ]
  },
  {
   "cell_type": "code",
   "execution_count": 28,
   "metadata": {},
   "outputs": [
    {
     "data": {
      "text/html": [
       "<div>\n",
       "<style scoped>\n",
       "    .dataframe tbody tr th:only-of-type {\n",
       "        vertical-align: middle;\n",
       "    }\n",
       "\n",
       "    .dataframe tbody tr th {\n",
       "        vertical-align: top;\n",
       "    }\n",
       "\n",
       "    .dataframe thead th {\n",
       "        text-align: right;\n",
       "    }\n",
       "</style>\n",
       "<table border=\"1\" class=\"dataframe\">\n",
       "  <thead>\n",
       "    <tr style=\"text-align: right;\">\n",
       "      <th></th>\n",
       "      <th>Anxiety</th>\n",
       "      <th>Final</th>\n",
       "    </tr>\n",
       "    <tr>\n",
       "      <th>Instructor</th>\n",
       "      <th></th>\n",
       "      <th></th>\n",
       "    </tr>\n",
       "  </thead>\n",
       "  <tbody>\n",
       "    <tr>\n",
       "      <th>A</th>\n",
       "      <td>82.960121</td>\n",
       "      <td>52.666667</td>\n",
       "    </tr>\n",
       "    <tr>\n",
       "      <th>B</th>\n",
       "      <td>77.811294</td>\n",
       "      <td>57.441176</td>\n",
       "    </tr>\n",
       "    <tr>\n",
       "      <th>C</th>\n",
       "      <td>72.193000</td>\n",
       "      <td>63.100000</td>\n",
       "    </tr>\n",
       "    <tr>\n",
       "      <th>D</th>\n",
       "      <td>51.891875</td>\n",
       "      <td>75.125000</td>\n",
       "    </tr>\n",
       "  </tbody>\n",
       "</table>\n",
       "</div>"
      ],
      "text/plain": [
       "              Anxiety      Final\n",
       "Instructor                      \n",
       "A           82.960121  52.666667\n",
       "B           77.811294  57.441176\n",
       "C           72.193000  63.100000\n",
       "D           51.891875  75.125000"
      ]
     },
     "execution_count": 28,
     "metadata": {},
     "output_type": "execute_result"
    }
   ],
   "source": [
    "# A better way\n",
    "\n",
    "group = df.groupby(['Instructor'])\n",
    "result = group[['Anxiety','Final']].mean()\n",
    "result"
   ]
  },
  {
   "cell_type": "markdown",
   "metadata": {},
   "source": [
    "7. What are the mean final and anxiety scores for each instructor by gender?\n",
    "\n",
    "Again the same logis that is used for the above question can itself be extended."
   ]
  },
  {
   "cell_type": "code",
   "execution_count": 57,
   "metadata": {},
   "outputs": [
    {
     "data": {
      "text/plain": [
       "{'A': {'Male': {'Anxiety': 81.26, 'Final': 56.26},\n",
       "  'Female': {'Anxiety': 85.26, 'Final': 47.79}},\n",
       " 'B': {'Male': {'Anxiety': 77.18, 'Final': 62.05},\n",
       "  'Female': {'Anxiety': 78.61, 'Final': 51.6}},\n",
       " 'C': {'Male': {'Anxiety': 68.87, 'Final': 63.75},\n",
       "  'Female': {'Anxiety': 74.41, 'Final': 62.67}},\n",
       " 'D': {'Male': {'Anxiety': 51.1, 'Final': 74.17},\n",
       "  'Female': {'Anxiety': 52.37, 'Final': 75.7}}}"
      ]
     },
     "execution_count": 57,
     "metadata": {},
     "output_type": "execute_result"
    }
   ],
   "source": [
    "inst = df['Instructor'].unique().tolist()\n",
    "inst\n",
    "dict_inst = {}\n",
    "\n",
    "for instr in inst:\n",
    "    dict_inst[instr] = {'Male':{'Anxiety':round(df[(df['Instructor']==instr) & (df['Gender']=='Male')]\n",
    "                        ['Anxiety'].mean(),2), 'Final':round(df[(df['Instructor']==instr) & \n",
    "                        (df['Gender']=='Male')]['Final'].mean(),2)},'Female':{'Anxiety':\n",
    "                        round(df[(df['Instructor']==instr) & (df['Gender']=='Female')]\n",
    "                        ['Anxiety'].mean(),2), 'Final':round(df[(df['Instructor']==instr) & \n",
    "                        (df['Gender']=='Female')]['Final'].mean(),2)}}\n",
    "    \n",
    "dict_inst\n",
    "    \n"
   ]
  },
  {
   "cell_type": "code",
   "execution_count": 30,
   "metadata": {},
   "outputs": [
    {
     "data": {
      "text/html": [
       "<div>\n",
       "<style scoped>\n",
       "    .dataframe tbody tr th:only-of-type {\n",
       "        vertical-align: middle;\n",
       "    }\n",
       "\n",
       "    .dataframe tbody tr th {\n",
       "        vertical-align: top;\n",
       "    }\n",
       "\n",
       "    .dataframe thead th {\n",
       "        text-align: right;\n",
       "    }\n",
       "</style>\n",
       "<table border=\"1\" class=\"dataframe\">\n",
       "  <thead>\n",
       "    <tr style=\"text-align: right;\">\n",
       "      <th></th>\n",
       "      <th></th>\n",
       "      <th>Anxiety</th>\n",
       "      <th>Final</th>\n",
       "    </tr>\n",
       "    <tr>\n",
       "      <th>Instructor</th>\n",
       "      <th>Gender</th>\n",
       "      <th></th>\n",
       "      <th></th>\n",
       "    </tr>\n",
       "  </thead>\n",
       "  <tbody>\n",
       "    <tr>\n",
       "      <th rowspan=\"2\" valign=\"top\">A</th>\n",
       "      <th>Female</th>\n",
       "      <td>85.261714</td>\n",
       "      <td>47.785714</td>\n",
       "    </tr>\n",
       "    <tr>\n",
       "      <th>Male</th>\n",
       "      <td>81.264211</td>\n",
       "      <td>56.263158</td>\n",
       "    </tr>\n",
       "    <tr>\n",
       "      <th rowspan=\"2\" valign=\"top\">B</th>\n",
       "      <th>Female</th>\n",
       "      <td>78.614133</td>\n",
       "      <td>51.600000</td>\n",
       "    </tr>\n",
       "    <tr>\n",
       "      <th>Male</th>\n",
       "      <td>77.177474</td>\n",
       "      <td>62.052632</td>\n",
       "    </tr>\n",
       "    <tr>\n",
       "      <th rowspan=\"2\" valign=\"top\">C</th>\n",
       "      <th>Female</th>\n",
       "      <td>74.409500</td>\n",
       "      <td>62.666667</td>\n",
       "    </tr>\n",
       "    <tr>\n",
       "      <th>Male</th>\n",
       "      <td>68.868250</td>\n",
       "      <td>63.750000</td>\n",
       "    </tr>\n",
       "    <tr>\n",
       "      <th rowspan=\"2\" valign=\"top\">D</th>\n",
       "      <th>Female</th>\n",
       "      <td>52.365400</td>\n",
       "      <td>75.700000</td>\n",
       "    </tr>\n",
       "    <tr>\n",
       "      <th>Male</th>\n",
       "      <td>51.102667</td>\n",
       "      <td>74.166667</td>\n",
       "    </tr>\n",
       "  </tbody>\n",
       "</table>\n",
       "</div>"
      ],
      "text/plain": [
       "                     Anxiety      Final\n",
       "Instructor Gender                      \n",
       "A          Female  85.261714  47.785714\n",
       "           Male    81.264211  56.263158\n",
       "B          Female  78.614133  51.600000\n",
       "           Male    77.177474  62.052632\n",
       "C          Female  74.409500  62.666667\n",
       "           Male    68.868250  63.750000\n",
       "D          Female  52.365400  75.700000\n",
       "           Male    51.102667  74.166667"
      ]
     },
     "execution_count": 30,
     "metadata": {},
     "output_type": "execute_result"
    }
   ],
   "source": [
    "# A better way\n",
    "\n",
    "group = df.groupby(['Instructor','Gender'])\n",
    "result = group[['Anxiety','Final']].mean()\n",
    "result"
   ]
  },
  {
   "cell_type": "markdown",
   "metadata": {},
   "source": [
    "8. Using skew(), are final and anxiety skewed?\n",
    "\n",
    "Here we shall use skew() function to find the skewness of the data.\n",
    "\n",
    "If the skewness value is bewteen -0.5 and 0.5, then, we say its normally distributed or not skewed.\n",
    "\n",
    "less than -0.5 means that the data is negatively skewed\n",
    "\n",
    "more than 0.5 means that the data is positively skewed"
   ]
  },
  {
   "cell_type": "code",
   "execution_count": 115,
   "metadata": {},
   "outputs": [
    {
     "name": "stdout",
     "output_type": "stream",
     "text": [
      "-0.32\n",
      "-1.76\n"
     ]
    }
   ],
   "source": [
    "print(round(df['Final'].skew(),2))\n",
    "print(round(df['Anxiety'].skew(),2))"
   ]
  },
  {
   "cell_type": "markdown",
   "metadata": {},
   "source": [
    "From the above it is clear that Final is not skewed  but Anxiety is negatively skewed"
   ]
  },
  {
   "cell_type": "markdown",
   "metadata": {},
   "source": [
    "9. Using skew(), which instructors final or anxiety scores are skewed?\n"
   ]
  },
  {
   "cell_type": "code",
   "execution_count": null,
   "metadata": {},
   "outputs": [],
   "source": [
    "9. Using skew(), which instructors final or anxiety scores are skewed"
   ]
  },
  {
   "cell_type": "code",
   "execution_count": 58,
   "metadata": {},
   "outputs": [
    {
     "name": "stdout",
     "output_type": "stream",
     "text": [
      "{'A': {'Final': -0.08, 'Anxiety': -4.05}, 'B': {'Final': -0.12, 'Anxiety': -0.27}, 'C': {'Final': -0.4, 'Anxiety': -0.22}, 'D': {'Final': -0.9, 'Anxiety': -0.39}}\n"
     ]
    }
   ],
   "source": [
    "inst = df['Instructor'].unique().tolist()\n",
    "inst\n",
    "dict_inst = {}\n",
    "\n",
    "for instr in inst:\n",
    "    dict_inst[instr] = {'Final':round(df[(df['Instructor']==instr)]\n",
    "                        ['Final'].skew(),2),'Anxiety':round(df[(df['Instructor']==instr)]['Anxiety'].skew(),2)}\n",
    "                     \n",
    "print(dict_inst)\n"
   ]
  },
  {
   "cell_type": "code",
   "execution_count": 31,
   "metadata": {},
   "outputs": [
    {
     "data": {
      "text/html": [
       "<div>\n",
       "<style scoped>\n",
       "    .dataframe tbody tr th:only-of-type {\n",
       "        vertical-align: middle;\n",
       "    }\n",
       "\n",
       "    .dataframe tbody tr th {\n",
       "        vertical-align: top;\n",
       "    }\n",
       "\n",
       "    .dataframe thead th {\n",
       "        text-align: right;\n",
       "    }\n",
       "</style>\n",
       "<table border=\"1\" class=\"dataframe\">\n",
       "  <thead>\n",
       "    <tr style=\"text-align: right;\">\n",
       "      <th></th>\n",
       "      <th>Anxiety</th>\n",
       "      <th>Final</th>\n",
       "    </tr>\n",
       "    <tr>\n",
       "      <th>Instructor</th>\n",
       "      <th></th>\n",
       "      <th></th>\n",
       "    </tr>\n",
       "  </thead>\n",
       "  <tbody>\n",
       "    <tr>\n",
       "      <th>A</th>\n",
       "      <td>-4.054128</td>\n",
       "      <td>-0.082272</td>\n",
       "    </tr>\n",
       "    <tr>\n",
       "      <th>B</th>\n",
       "      <td>-0.274613</td>\n",
       "      <td>-0.121356</td>\n",
       "    </tr>\n",
       "    <tr>\n",
       "      <th>C</th>\n",
       "      <td>-0.224214</td>\n",
       "      <td>-0.395085</td>\n",
       "    </tr>\n",
       "    <tr>\n",
       "      <th>D</th>\n",
       "      <td>-0.392188</td>\n",
       "      <td>-0.902609</td>\n",
       "    </tr>\n",
       "  </tbody>\n",
       "</table>\n",
       "</div>"
      ],
      "text/plain": [
       "             Anxiety     Final\n",
       "Instructor                    \n",
       "A          -4.054128 -0.082272\n",
       "B          -0.274613 -0.121356\n",
       "C          -0.224214 -0.395085\n",
       "D          -0.392188 -0.902609"
      ]
     },
     "execution_count": 31,
     "metadata": {},
     "output_type": "execute_result"
    }
   ],
   "source": [
    "# A better way\n",
    "\n",
    "group = df.groupby(['Instructor'])\n",
    "result = group[['Anxiety','Final']].skew()\n",
    "result\n",
    "\n",
    "\n",
    "# In the class wen you solved this question you used gender also along with 'Instructor' \n",
    "# but that doesn't need to be there cos question doesnt specify the gender"
   ]
  },
  {
   "cell_type": "markdown",
   "metadata": {},
   "source": [
    "From the above it is clera that\n",
    "\n",
    "For Instructor A:          Final - Not skewed          Anxiety - Skewed\n",
    "\n",
    "For Instructor B:          Final - Not skewed          Anxiety - Not Skewed\n",
    "\n",
    "For Instructor A:\n",
    "    Final - Not skewed\n",
    "    Anxiety - Not Skewed\n",
    "\n",
    "For Instructor A:\n",
    "    Final - Skewed\n",
    "    Anxiety - Not Skewed"
   ]
  },
  {
   "cell_type": "markdown",
   "metadata": {},
   "source": [
    "10. Which instructor seems better for a Female with high anxiety?\n",
    "\n",
    "In order to solve this question we need to understand that the question is asking \"Which instructor has the higest avg marks for females with high anxiety.\n",
    "\n",
    "Hence we need to calculate the Final and Anxiety scores of females instructor wise and then compare.\n",
    "\n",
    "We can again reuse the code that we have used earlier with minor modifications."
   ]
  },
  {
   "cell_type": "code",
   "execution_count": 59,
   "metadata": {},
   "outputs": [
    {
     "data": {
      "text/plain": [
       "{'A': {'Female': {'Anxiety': 85.26, 'Final': 47.79}},\n",
       " 'B': {'Female': {'Anxiety': 78.61, 'Final': 51.6}},\n",
       " 'C': {'Female': {'Anxiety': 74.41, 'Final': 62.67}},\n",
       " 'D': {'Female': {'Anxiety': 52.37, 'Final': 75.7}}}"
      ]
     },
     "execution_count": 59,
     "metadata": {},
     "output_type": "execute_result"
    }
   ],
   "source": [
    "for instr in inst:\n",
    "    dict_inst[instr] = {'Female':{'Anxiety':round(df[(df['Instructor']==instr) & \n",
    "                    (df['Gender']=='Female')]['Anxiety'].mean(),2), 'Final':round(df[(df['Instructor']==instr)\n",
    "                    & (df['Gender']=='Female')]['Final'].mean(),2)}}\n",
    "    \n",
    "dict_inst"
   ]
  },
  {
   "cell_type": "code",
   "execution_count": 37,
   "metadata": {},
   "outputs": [
    {
     "data": {
      "text/html": [
       "<div>\n",
       "<style scoped>\n",
       "    .dataframe tbody tr th:only-of-type {\n",
       "        vertical-align: middle;\n",
       "    }\n",
       "\n",
       "    .dataframe tbody tr th {\n",
       "        vertical-align: top;\n",
       "    }\n",
       "\n",
       "    .dataframe thead th {\n",
       "        text-align: right;\n",
       "    }\n",
       "</style>\n",
       "<table border=\"1\" class=\"dataframe\">\n",
       "  <thead>\n",
       "    <tr style=\"text-align: right;\">\n",
       "      <th></th>\n",
       "      <th></th>\n",
       "      <th>Anxiety</th>\n",
       "      <th>Final</th>\n",
       "    </tr>\n",
       "    <tr>\n",
       "      <th>Instructor</th>\n",
       "      <th>Gender</th>\n",
       "      <th></th>\n",
       "      <th></th>\n",
       "    </tr>\n",
       "  </thead>\n",
       "  <tbody>\n",
       "    <tr>\n",
       "      <th>A</th>\n",
       "      <th>Female</th>\n",
       "      <td>93.552</td>\n",
       "      <td>80</td>\n",
       "    </tr>\n",
       "    <tr>\n",
       "      <th>B</th>\n",
       "      <th>Female</th>\n",
       "      <td>91.134</td>\n",
       "      <td>90</td>\n",
       "    </tr>\n",
       "    <tr>\n",
       "      <th>C</th>\n",
       "      <th>Female</th>\n",
       "      <td>89.522</td>\n",
       "      <td>95</td>\n",
       "    </tr>\n",
       "    <tr>\n",
       "      <th>D</th>\n",
       "      <th>Female</th>\n",
       "      <td>95.970</td>\n",
       "      <td>100</td>\n",
       "    </tr>\n",
       "  </tbody>\n",
       "</table>\n",
       "</div>"
      ],
      "text/plain": [
       "                   Anxiety  Final\n",
       "Instructor Gender                \n",
       "A          Female   93.552     80\n",
       "B          Female   91.134     90\n",
       "C          Female   89.522     95\n",
       "D          Female   95.970    100"
      ]
     },
     "execution_count": 37,
     "metadata": {},
     "output_type": "execute_result"
    }
   ],
   "source": [
    "# A better way of doing the same is \n",
    "\n",
    "df1 = df[df['Gender']=='Female']\n",
    "group = df1.groupby(['Instructor','Gender'])\n",
    "result = group[['Anxiety','Final']].max()\n",
    "result"
   ]
  },
  {
   "cell_type": "markdown",
   "metadata": {},
   "source": [
    "From the above it is clear that for a Female with high anxiety Instructor D is the best as in his case the overall scores are higher and the general Anxiety level is lower"
   ]
  },
  {
   "cell_type": "code",
   "execution_count": null,
   "metadata": {},
   "outputs": [],
   "source": [
    "# If you could pls suggest a way wherein we can get only Females in th groupby function I shall be grateful.\n",
    "# Looked for it online and filter can be done but I couldnt implement for the same."
   ]
  },
  {
   "cell_type": "markdown",
   "metadata": {},
   "source": [
    "11. Which instructor seems better for a Male with high anxiety?"
   ]
  },
  {
   "cell_type": "code",
   "execution_count": 60,
   "metadata": {},
   "outputs": [
    {
     "data": {
      "text/plain": [
       "{'A': {'Male': {'Anxiety': 81.26, 'Final': 56.26}},\n",
       " 'B': {'Male': {'Anxiety': 77.18, 'Final': 62.05}},\n",
       " 'C': {'Male': {'Anxiety': 68.87, 'Final': 63.75}},\n",
       " 'D': {'Male': {'Anxiety': 51.1, 'Final': 74.17}}}"
      ]
     },
     "execution_count": 60,
     "metadata": {},
     "output_type": "execute_result"
    }
   ],
   "source": [
    "for instr in inst:\n",
    "    dict_inst[instr] = {'Male':{'Anxiety':round(df[(df['Instructor']==instr) & (df['Gender']=='Male')]\n",
    "                        ['Anxiety'].mean(),2), 'Final':round(df[(df['Instructor']==instr) & \n",
    "                        (df['Gender']=='Male')]['Final'].mean(),2)}}\n",
    "    \n",
    "dict_inst"
   ]
  },
  {
   "cell_type": "code",
   "execution_count": 38,
   "metadata": {},
   "outputs": [
    {
     "data": {
      "text/html": [
       "<div>\n",
       "<style scoped>\n",
       "    .dataframe tbody tr th:only-of-type {\n",
       "        vertical-align: middle;\n",
       "    }\n",
       "\n",
       "    .dataframe tbody tr th {\n",
       "        vertical-align: top;\n",
       "    }\n",
       "\n",
       "    .dataframe thead th {\n",
       "        text-align: right;\n",
       "    }\n",
       "</style>\n",
       "<table border=\"1\" class=\"dataframe\">\n",
       "  <thead>\n",
       "    <tr style=\"text-align: right;\">\n",
       "      <th></th>\n",
       "      <th></th>\n",
       "      <th>Anxiety</th>\n",
       "      <th>Final</th>\n",
       "    </tr>\n",
       "    <tr>\n",
       "      <th>Instructor</th>\n",
       "      <th>Gender</th>\n",
       "      <th></th>\n",
       "      <th></th>\n",
       "    </tr>\n",
       "  </thead>\n",
       "  <tbody>\n",
       "    <tr>\n",
       "      <th>A</th>\n",
       "      <th>Male</th>\n",
       "      <td>97.582</td>\n",
       "      <td>100</td>\n",
       "    </tr>\n",
       "    <tr>\n",
       "      <th>B</th>\n",
       "      <th>Male</th>\n",
       "      <td>91.134</td>\n",
       "      <td>95</td>\n",
       "    </tr>\n",
       "    <tr>\n",
       "      <th>C</th>\n",
       "      <th>Male</th>\n",
       "      <td>82.268</td>\n",
       "      <td>85</td>\n",
       "    </tr>\n",
       "    <tr>\n",
       "      <th>D</th>\n",
       "      <th>Male</th>\n",
       "      <td>72.596</td>\n",
       "      <td>95</td>\n",
       "    </tr>\n",
       "  </tbody>\n",
       "</table>\n",
       "</div>"
      ],
      "text/plain": [
       "                   Anxiety  Final\n",
       "Instructor Gender                \n",
       "A          Male     97.582    100\n",
       "B          Male     91.134     95\n",
       "C          Male     82.268     85\n",
       "D          Male     72.596     95"
      ]
     },
     "execution_count": 38,
     "metadata": {},
     "output_type": "execute_result"
    }
   ],
   "source": [
    "# A better way of doing the same is \n",
    "\n",
    "df1 = df[df['Gender']=='Male']\n",
    "group = df1.groupby(['Instructor','Gender'])\n",
    "result = group[['Anxiety','Final']].max()\n",
    "result"
   ]
  },
  {
   "cell_type": "markdown",
   "metadata": {},
   "source": [
    "From the above it is clear that for a Male with high anxiety Instructor D is the best as in his case the overall scores are higher and the general Anxiety level is lower"
   ]
  }
 ],
 "metadata": {
  "colab": {
   "provenance": []
  },
  "kernelspec": {
   "display_name": "Python 3 (ipykernel)",
   "language": "python",
   "name": "python3"
  },
  "language_info": {
   "codemirror_mode": {
    "name": "ipython",
    "version": 3
   },
   "file_extension": ".py",
   "mimetype": "text/x-python",
   "name": "python",
   "nbconvert_exporter": "python",
   "pygments_lexer": "ipython3",
   "version": "3.9.12"
  }
 },
 "nbformat": 4,
 "nbformat_minor": 1
}
