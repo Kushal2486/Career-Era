{
 "cells": [
  {
   "cell_type": "code",
   "execution_count": null,
   "id": "5b6e905a",
   "metadata": {},
   "outputs": [],
   "source": [
    "# 1.\tWrite a program that given two integer numbers, returns their product only if the product is equal \n",
    "# to or lower than 1000, else return their sum.\n"
   ]
  },
  {
   "cell_type": "code",
   "execution_count": 2,
   "id": "86dfe095",
   "metadata": {},
   "outputs": [
    {
     "name": "stdout",
     "output_type": "stream",
     "text": [
      "Enter any number25\n",
      "Enter another number25\n",
      "The product of the two numbers is 625\n"
     ]
    }
   ],
   "source": [
    "# Taking input from user\n",
    "\n",
    "num1 = int(input(\"Enter any number\"))\n",
    "num2 = int(input(\"Enter another number\"))\n",
    "\n",
    "# Checking if product needs to be presented or its sum.\n",
    "\n",
    "prod = num1*num2\n",
    "if prod<= 1000:\n",
    "    print(f\"The product of the two numbers is {prod}\")\n",
    "else:\n",
    "    print(f\"The sum of the number is {num1+num2}\")"
   ]
  },
  {
   "cell_type": "code",
   "execution_count": 6,
   "id": "86c83d71",
   "metadata": {},
   "outputs": [
    {
     "name": "stdout",
     "output_type": "stream",
     "text": [
      "Enter any number0\n",
      "Number is Zero\n"
     ]
    }
   ],
   "source": [
    "# 2.Write a program that takes an integer from the user and determines if it is positive or negative. \n",
    "\n",
    "num = int(input(\"Enter any number\"))\n",
    "\n",
    "# the below block of codes checks whether number is positive or negative\n",
    "\n",
    "if num>0:\n",
    "    print(\"Number is positive\")\n",
    "elif num<0:\n",
    "    print(\"Number is negative or zero\")\n",
    "else:\n",
    "    print(\"Number is Zero\")\n",
    "\n"
   ]
  },
  {
   "cell_type": "code",
   "execution_count": 8,
   "id": "d903864b",
   "metadata": {},
   "outputs": [
    {
     "name": "stdout",
     "output_type": "stream",
     "text": [
      "Enter any number36\n",
      "The number is even\n"
     ]
    }
   ],
   "source": [
    "# 3.\tWrite a program that takes an integer from the user and determines if it is even or odd.\n",
    "\n",
    "num = int(input(\"Enter any number\"))\n",
    "\n",
    "# the below block of cide checks if the number is odd or even\n",
    "\n",
    "if num%2==0:\n",
    "    print(\"The number is even\")\n",
    "else:\n",
    "    print(\"Number is odd\")\n"
   ]
  },
  {
   "cell_type": "code",
   "execution_count": 2,
   "id": "73736399",
   "metadata": {},
   "outputs": [
    {
     "name": "stdout",
     "output_type": "stream",
     "text": [
      "Enter any word or sentence : iiieeee\n",
      "The word/sentence contains vowels\n"
     ]
    }
   ],
   "source": [
    "# 4.\tWrite a program that takes in a string from the user and determines if there are vowels in the string \n",
    "# or not \n",
    "\n",
    "str1 = input(\"Enter any word or sentence : \")\n",
    "vowels = ['a','e','i','o','u']\n",
    "flag = False\n",
    "\n",
    "for str in str1:\n",
    "    if str in vowels:\n",
    "        flag = True\n",
    "        break\n",
    "    \n",
    "if flag:\n",
    "    print(\"The word/sentence contains vowels\")\n",
    "else:\n",
    "    print(\"The word/sentence contains vowels\")"
   ]
  },
  {
   "cell_type": "code",
   "execution_count": 4,
   "id": "49043189",
   "metadata": {},
   "outputs": [
    {
     "name": "stdout",
     "output_type": "stream",
     "text": [
      "Enter any word or sentence : iiieee\n",
      "The word/sentence contains vowels and the number of vowels are 6\n"
     ]
    }
   ],
   "source": [
    "# We can go a step further and determine the number of vowels that are there\n",
    "\n",
    "str1 = input(\"Enter any word or sentence : \")\n",
    "vowels = ['a','e','i','o','u']\n",
    "flag = False\n",
    "count=0\n",
    "\n",
    "for str in str1:\n",
    "    if str in vowels:\n",
    "        flag = True\n",
    "        break\n",
    "        \n",
    "for str in str1:\n",
    "    if str in vowels:\n",
    "        count+=1\n",
    "    \n",
    "if flag:\n",
    "    print(f\"The word/sentence contains vowels and the number of vowels are {count}\")\n",
    "else:\n",
    "    print(\"The word/sentence contains vowels\")"
   ]
  },
  {
   "cell_type": "code",
   "execution_count": 8,
   "id": "114034f6",
   "metadata": {},
   "outputs": [
    {
     "name": "stdout",
     "output_type": "stream",
     "text": [
      "Enter any word or sentence : I dontknow what the hell is happening\n",
      "The word/sentence contains vowels and the number of vowels are 9\n",
      "The vowel 'o' appears '2' times\n",
      "The vowel 'a' appears '2' times\n",
      "The vowel 'e' appears '3' times\n",
      "The vowel 'i' appears '2' times\n"
     ]
    }
   ],
   "source": [
    "# We can go even one step further and determine which vowels appear and how many times\n",
    "\n",
    "str1 = input(\"Enter any word or sentence : \")\n",
    "vowels = ['a','e','i','o','u']\n",
    "flag = False\n",
    "count = 0\n",
    "\n",
    "vow = {}\n",
    "\n",
    "for str in str1:\n",
    "    if str in vowels:\n",
    "        flag = True\n",
    "        break\n",
    "        \n",
    "for str in str1:\n",
    "    if str in vowels:\n",
    "        if str not in vow:\n",
    "            vow[str] = 1\n",
    "        else:\n",
    "            vow[str]+=1\n",
    "\n",
    "for value in vow.values():\n",
    "    count=count+value\n",
    "    \n",
    "if flag:\n",
    "    print(f\"The word/sentence contains vowels and the number of vowels are {count}\")\n",
    "    for key,value in vow.items():\n",
    "        print(f\"The vowel \\'{key}' appears \\'{value}' times\")\n",
    "else:\n",
    "    print(\"The word/sentence contains vowels\")"
   ]
  },
  {
   "cell_type": "code",
   "execution_count": 10,
   "id": "8e0698a6",
   "metadata": {},
   "outputs": [
    {
     "name": "stdout",
     "output_type": "stream",
     "text": [
      "Enter any Dirham value that you wish to convert to Indian Rupee100\n",
      "100 AED in  Indian Rupees is 2200 INR\n"
     ]
    }
   ],
   "source": [
    "# 5.\tWrite a  program that takes in a currency amount from the user and returns the amount converted \n",
    "# into another currency (your choice of currency)\n",
    "\n",
    "# We are writing a program to convert AED to INR\n",
    "\n",
    "aed = int(input(\"Enter any Dirham value that you wish to convert to Indian Rupee\"))\n",
    "inr = aed*22\n",
    "\n",
    "print(f\"{aed} AED in  Indian Rupees is {inr} INR\")\n"
   ]
  },
  {
   "cell_type": "code",
   "execution_count": null,
   "id": "770e4fd0",
   "metadata": {},
   "outputs": [],
   "source": []
  },
  {
   "cell_type": "code",
   "execution_count": null,
   "id": "b7d15a4d",
   "metadata": {},
   "outputs": [],
   "source": []
  }
 ],
 "metadata": {
  "kernelspec": {
   "display_name": "Python 3 (ipykernel)",
   "language": "python",
   "name": "python3"
  },
  "language_info": {
   "codemirror_mode": {
    "name": "ipython",
    "version": 3
   },
   "file_extension": ".py",
   "mimetype": "text/x-python",
   "name": "python",
   "nbconvert_exporter": "python",
   "pygments_lexer": "ipython3",
   "version": "3.9.12"
  }
 },
 "nbformat": 4,
 "nbformat_minor": 5
}
