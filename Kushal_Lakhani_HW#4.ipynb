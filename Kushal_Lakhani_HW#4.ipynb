{
 "cells": [
  {
   "cell_type": "code",
   "execution_count": 11,
   "id": "59c4cb2d",
   "metadata": {},
   "outputs": [
    {
     "name": "stdout",
     "output_type": "stream",
     "text": [
      "Type 'ADD' for adding a name, 'REMOVE' for removin a name, 'UPDATE' for updating the agesUpdate\n",
      "If you wish to upate name please write 'Name' or write 'Age' for updating agename\n",
      "Which name do you wish to updateK\n",
      "Enter the updated namek\n",
      "[{'Name': 'k', 'Age': 37}, {'Name': 'M', 'Age': 37}, {'Name': 'C', 'Age': 8}, {'Name': 'P', 'Age': 25}, {'Name': 'A', 'Age': 25}, {'Name': 'X', 'Age': 24}, {'Name': 'Y', 'Age': 23}, {'Name': 'Z', 'Age': 22}, {'Name': 'D', 'Age': 20}, {'Name': 'E', 'Age': 19}, {'Name': 'F', 'Age': 18}, {'Name': 'J', 'Age': 17}, {'Name': 'L', 'Age': 9}, {'Name': 'M', 'Age': '10'}, {'Name': 'N', 'Age': 11}, {'Name': 'O', 'Age': 12}]\n"
     ]
    }
   ],
   "source": [
    "\"\"\" 1.Write a function that will solve the following problem. You have a collection of names and ages, \n",
    "and you want to store them in a data structure. You want to allow the user to add, update, or remove a name \n",
    "and age from the data structure. The function should continue until the user ends it. \n",
    "Hint: Try using a while loop. \"\"\"\n",
    "\n",
    "\n",
    "def edit(list1, command):\n",
    "    if command.lower() == 'add':\n",
    "        name = input(\"Give the name you want to add\")\n",
    "        age = int(input(\"Enter the age of the person added\"))\n",
    "        dict1 = {'Name':name,'Age':age}\n",
    "        list1.append(dict1)\n",
    "    \n",
    "    elif command.lower() == 'remove':\n",
    "        name = input(\"Give the name you want to remove\")\n",
    "        for data in list_data:\n",
    "            if data['Name'] ==name:\n",
    "                list1.remove(data)\n",
    "            \n",
    "    elif command.lower() == 'update':\n",
    "        comm = input(\"If you wish to upate name please write 'Name' or write 'Age' for updating age\")\n",
    "        if comm.lower()=='name':\n",
    "            name_old = input(\"Which name do you wish to update\")\n",
    "            name_new = input(\"Enter the updated name\")\n",
    "            for data in list1:\n",
    "                if data['Name'] ==name_old:\n",
    "                    data['Name'] =name_new\n",
    "        elif comm.lower()=='age':\n",
    "            age_old = input(\"Which name do you wish to update\")\n",
    "            age_new = input(\"Enter the updated name\")\n",
    "            for data in list1:\n",
    "                if data['Name'] ==age_old:\n",
    "                    data['Name'] =age_new\n",
    "        else:\n",
    "            print(\"Invalid Command\")\n",
    "            \n",
    "                        \n",
    "    else: \n",
    "        print(\"Incorrect command. Enter either 'REMOVE', 'ADD','UPDATE'\")\n",
    "    \n",
    "    print(list1)\n",
    "    \n",
    "    \n",
    "\n",
    "list_data = [{'Name':'K', 'Age':37}, {'Name':'M', 'Age':37}, {'Name':'C', 'Age':8}, {'Name':'P', 'Age':25}, \n",
    "             {'Name':'A', 'Age':25}, {'Name':'X', 'Age':24}, {'Name':'Y', 'Age':23}, {'Name':'Z', 'Age':22},\n",
    "             {'Name':'D','Age':20}, {'Name':'E', 'Age':19}, {'Name':'F', 'Age':18}, {'Name':'J', 'Age':17},\n",
    "             {'Name':'L', 'Age':9}, {'Name':'M', 'Age':'10'}, {'Name':'N', 'Age':11}, {'Name':'O', 'Age':12}]\n",
    "dict1 = {}\n",
    "\n",
    "command = input(\"Type 'ADD' for adding a name, 'REMOVE' for removin a name, 'UPDATE' for updating the ages\")\n",
    "\n",
    "\n",
    "edit(list_data, command)\n",
    "\n"
   ]
  },
  {
   "cell_type": "code",
   "execution_count": null,
   "id": "9f23f49a",
   "metadata": {},
   "outputs": [],
   "source": []
  },
  {
   "cell_type": "code",
   "execution_count": null,
   "id": "72b3c4ad",
   "metadata": {},
   "outputs": [],
   "source": [
    "\"\"\"2. What are lists and tuples? What is the key difference between the two? \"\"\"\n",
    "\n",
    "# Lists & Tuples are non-primivite data structures that can save primitive data types.\n",
    "# However the key difference between them is that lists are mutable and tuples are not.\n",
    "# So, while storing data selecting the right data structues is important.\n",
    "# Lists take more ememory while tuples done."
   ]
  },
  {
   "cell_type": "code",
   "execution_count": null,
   "id": "a2689419",
   "metadata": {},
   "outputs": [],
   "source": []
  },
  {
   "cell_type": "code",
   "execution_count": 4,
   "id": "46f06b03",
   "metadata": {},
   "outputs": [
    {
     "name": "stdout",
     "output_type": "stream",
     "text": [
      "Enter student's name: Kushal\n",
      "Enter student score: 93\n",
      "Enter student ranking: 1\n",
      "Do you wish to enter more student data. If yes type \"Yes\" else \"No\".:  Yes\n",
      "Enter student's name: Pranita\n",
      "Enter student score: 86\n",
      "Enter student ranking: 2\n",
      "Do you wish to enter more student data. If yes type \"Yes\" else \"No\".:  Yes\n",
      "Enter student's name: Casper\n",
      "Enter student score: 83\n",
      "Enter student ranking: 3\n",
      "Do you wish to enter more student data. If yes type \"Yes\" else \"No\".:  2\n",
      "How many topscores do you wish to display2\n",
      "The student with rank 1 is Kushal and the score is 93\n",
      "The student with rank 2 is Pranita and the score is 86\n"
     ]
    }
   ],
   "source": [
    "\"\"\"3. Write a function that will take in students names, student scores and student ranking and \n",
    "will return the students with the top 3 scores. (Experiment with using 5 students). \"\"\"\n",
    "\n",
    "def rankings(list_data, ranking):\n",
    "    for i in range(1,ranking+1):\n",
    "        for data in list_data:\n",
    "            for key,value in data.items():\n",
    "                if value == i:\n",
    "                    name = data['Name']\n",
    "                    score = data['Score']\n",
    "                    print(f'The student with rank {i} is {name} and the score is {score}')\n",
    "\n",
    "\n",
    "dict_student_data = {}\n",
    "list_data = []\n",
    "entry = True\n",
    "\n",
    "while entry:\n",
    "    name = input(\"Enter student's name: \")\n",
    "    score = int(input(\"Enter student score: \"))\n",
    "    rank = int(input(\"Enter student ranking: \"))\n",
    "    dict_student_data['Name'] = name\n",
    "    dict_student_data['Score'] = score\n",
    "    dict_student_data['Rank'] = rank\n",
    "    list_data.append(dict_student_data)\n",
    "    more = input(\"Do you wish to enter more student data. If yes type \\\"Yes\\\" else \\\"No\\\".:  \")\n",
    "    if more.lower() == 'yes':\n",
    "        dict_student_data = {}\n",
    "        continue\n",
    "    else:\n",
    "        break\n",
    "        \n",
    "ranking = int(input(\"How many topscores do you wish to display\"))\n",
    "        \n",
    "rankings(list_data,ranking)\n"
   ]
  },
  {
   "cell_type": "code",
   "execution_count": null,
   "id": "375fe83d",
   "metadata": {},
   "outputs": [],
   "source": [
    "\"\"\"4.\tWrite a function that will take this paragraph from the user and return a list of the words \n",
    "that are not in this list \"\"\"\n",
    "\n",
    "def amend_para(list1,para1):\n",
    "    for word in para1:\n",
    "        if word in list1:\n",
    "            para1.remove(word)\n",
    "    \n",
    "    return para1\n",
    "\n",
    "para = input(\"Enter parat\")\n",
    "para_list = para.split(\" \")\n",
    "print(para_list)\n",
    "stop_words = ['have', 'their', 'just', 'that', 'than', 'when', 'they', 'themselves', 'because']\n",
    "\n",
    "list2 = amend_para(stop_words, para_list)\n",
    "print(list2)\n"
   ]
  },
  {
   "cell_type": "code",
   "execution_count": 35,
   "id": "6f7ab2f5",
   "metadata": {},
   "outputs": [
    {
     "name": "stdout",
     "output_type": "stream",
     "text": [
      "Enter any line/para.I am the I am the following crap\n",
      "['following', 'crap']\n"
     ]
    }
   ],
   "source": [
    "\"\"\" 5.\tWrite a function that takes in user input, identifies and prints duplicates and \n",
    "then removes those duplicates and prints the new list (without the duplicates). \"\"\"\n",
    "\n",
    "def remove_duplicates(line1):\n",
    "    line1_list = line1.split(\" \")\n",
    "    count = list(set([x for x in line1_list if line1_list.count(x)>1]))\n",
    "    line1_new = [ x for x in line1_list if x not in count]\n",
    "    return line1_new\n",
    "\n",
    "\n",
    "line1 = input(\"Enter any line/para.\")\n",
    "new_list = remove_duplicates(line1)\n",
    "print(new_list)"
   ]
  },
  {
   "cell_type": "code",
   "execution_count": null,
   "id": "3374df8a",
   "metadata": {},
   "outputs": [],
   "source": []
  },
  {
   "cell_type": "code",
   "execution_count": 38,
   "id": "87cdd065",
   "metadata": {},
   "outputs": [
    {
     "name": "stdout",
     "output_type": "stream",
     "text": [
      "Enter a list of numbers separated by space ' ' 24 23 22 21 25 27 28 30\n",
      "The list of even numbers is [24, 22, 28, 30].\n",
      "The list of even numbers is [23, 21, 25, 27].\n"
     ]
    }
   ],
   "source": [
    "\"\"\" Write a function that takes integers from a user and prints out a list of even and odd integers or 0. \"\"\"\n",
    "\n",
    "\n",
    "def differentiate(list1):\n",
    "    list_number = list1.split(\" \")\n",
    "    list_numbers = [ int(x) for x in list_number]\n",
    "    list_even = [x for x in list_numbers if x%2==0]\n",
    "    list_odd = [ x for x in list_numbers if x%2!=0]\n",
    "    return (list_even, list_odd)\n",
    "\n",
    "list1 = input(\"Enter a list of numbers separated by space ' ' \")\n",
    "list_even,list_odd = differentiate(list1)\n",
    "print(f'The list of even numbers is {list_even}.')\n",
    "print(f'The list of even numbers is {list_odd}.')"
   ]
  },
  {
   "cell_type": "code",
   "execution_count": 40,
   "id": "88e7fffc",
   "metadata": {},
   "outputs": [
    {
     "name": "stdout",
     "output_type": "stream",
     "text": [
      "Enter a number36\n",
      "When you devide 36 by 1 the remainedr is 0\n",
      "When you devide 36 by 2 the remainedr is 0\n",
      "When you devide 36 by 3 the remainedr is 0\n",
      "When you devide 36 by 4 the remainedr is 0\n",
      "When you devide 36 by 5 the remainedr is 1\n",
      "When you devide 36 by 6 the remainedr is 0\n",
      "When you devide 36 by 7 the remainedr is 1\n",
      "When you devide 36 by 8 the remainedr is 4\n",
      "When you devide 36 by 9 the remainedr is 0\n",
      "When you devide 36 by 10 the remainedr is 6\n",
      "When you devide 36 by 11 the remainedr is 3\n",
      "When you devide 36 by 12 the remainedr is 0\n",
      "When you devide 36 by 13 the remainedr is 10\n",
      "When you devide 36 by 14 the remainedr is 8\n",
      "When you devide 36 by 15 the remainedr is 6\n",
      "When you devide 36 by 16 the remainedr is 4\n",
      "When you devide 36 by 17 the remainedr is 2\n",
      "When you devide 36 by 18 the remainedr is 0\n",
      "When you devide 36 by 19 the remainedr is 17\n",
      "When you devide 36 by 20 the remainedr is 16\n",
      "When you devide 36 by 21 the remainedr is 15\n",
      "When you devide 36 by 22 the remainedr is 14\n",
      "When you devide 36 by 23 the remainedr is 13\n",
      "When you devide 36 by 24 the remainedr is 12\n",
      "When you devide 36 by 25 the remainedr is 11\n",
      "When you devide 36 by 26 the remainedr is 10\n",
      "When you devide 36 by 27 the remainedr is 9\n",
      "When you devide 36 by 28 the remainedr is 8\n",
      "When you devide 36 by 29 the remainedr is 7\n",
      "When you devide 36 by 30 the remainedr is 6\n",
      "When you devide 36 by 31 the remainedr is 5\n",
      "When you devide 36 by 32 the remainedr is 4\n",
      "When you devide 36 by 33 the remainedr is 3\n",
      "When you devide 36 by 34 the remainedr is 2\n",
      "When you devide 36 by 35 the remainedr is 1\n"
     ]
    }
   ],
   "source": [
    "\"\"\" 7.\tWrite a function that takes an integer n from the user and returns all remainders of when the \n",
    "integer is divided by each integer from 1 to n-1 in a list. \"\"\"\n",
    "\n",
    "\n",
    "\n",
    "def remainder(num):\n",
    "    for i in range(1,num):\n",
    "        print(f'When you devide {num} by {i} the remainedr is {num%i}')\n",
    "            \n",
    "num = int(input(\"Enter a number\"))\n",
    "remainder(num)"
   ]
  },
  {
   "cell_type": "code",
   "execution_count": 21,
   "id": "342b813e",
   "metadata": {},
   "outputs": [
    {
     "name": "stdout",
     "output_type": "stream",
     "text": [
      "Enter any message that you need to encodeKushal\n",
      "The coded msg is 4b757368616c\n",
      "Do you wish to decode the messageyes\n",
      "Kushal\n"
     ]
    }
   ],
   "source": [
    "\"\"\" 8.Write a function that will take in a string from the user and then encode it and return the \n",
    "encoded string. The function should also have a choice for the user to decode and already encoded string. \n",
    "The encoding key is up to you.\"\"\"\n",
    "\n",
    "def encode(name):\n",
    "    code = ''\n",
    "    for word in name:\n",
    "        name1 = format(ord(word),\"x\")\n",
    "        code = code+(name1)\n",
    "    print(f'The coded msg is {code}')\n",
    "    return code\n",
    "\n",
    "def decode (string):\n",
    "    decode = ''\n",
    "    while string:\n",
    "        decode1 = int(string[0:2],16)\n",
    "        decode = decode + chr(decode1)\n",
    "        string = string[2:]\n",
    "        \n",
    "    print(decode)\n",
    "\n",
    "        \n",
    "msg = input(\"Enter any message that you need to encode\")\n",
    "enc = encode(msg)\n",
    "\n",
    "command = input(\"Do you wish to decode the message\")\n",
    "if command.lower()=='yes':\n",
    "    decode(enc)"
   ]
  },
  {
   "cell_type": "markdown",
   "id": "9af27441",
   "metadata": {},
   "source": [
    "3###### 2## Optional programming"
   ]
  },
  {
   "cell_type": "code",
   "execution_count": 5,
   "id": "20e1ea72",
   "metadata": {},
   "outputs": [
    {
     "name": "stdout",
     "output_type": "stream",
     "text": [
      "Enter the year you want to check1900\n",
      "The given year 1900 is a not leap year\n"
     ]
    }
   ],
   "source": [
    "# 1. 1.\tWrite a program that checks if a given year is a leap year.\n",
    "\n",
    "# A number is leap when its divisible by 4 but if its a centenial year it must be divisible by 400.\n",
    "\n",
    "num = int(input(\"Enter the year you want to check\"))\n",
    "\n",
    "if (num%4==0 and num%400==0) or (num%4==0 and num%100!=0 ):\n",
    "    print(f\"The given year {num} is a leap year\")\n",
    "else:\n",
    "    print(f\"The given year {num} is a not leap year\")"
   ]
  },
  {
   "cell_type": "code",
   "execution_count": 21,
   "id": "87e6dadc",
   "metadata": {},
   "outputs": [
    {
     "name": "stdout",
     "output_type": "stream",
     "text": [
      "Enter the 3 sides of the triangle separated by spaces4 4 4\n",
      "The area of the triangle for the given sides is 6.93\n",
      "The Trianle is not a Right Triangle\n"
     ]
    }
   ],
   "source": [
    "# 2. 2.\tImplement a program that calculates the area of a triangle given the lengths of its sides \n",
    "# and the determines if the triangle can be a right triangle or not. Hint: Use Pythagoras’ Theorem\n",
    "\n",
    "import operator\n",
    "from functools import reduce\n",
    "\n",
    "num = input(\"Enter the 3 sides of the triangle separated by spaces\")\n",
    "list1 = num.split(\" \")\n",
    "list1 = [int(num) for num in list1]\n",
    "s = reduce(operator.add,(list1))/2\n",
    "\n",
    "area = (s*(s-list1[0])*(s-list1[1])*(s-list1[2]))**(1/2)\n",
    "\n",
    "print(f\"The area of the triangle for the given sides is {round(area,2)}\")\n",
    "\n",
    "list1.sort()\n",
    "\n",
    "if (list1[0]**2 + list1[1]**2)==list1[2]**2:\n",
    "    print(\"The Triangle is a Right Triangle\")\n",
    "else:\n",
    "    print(\"The Trianle is not a Right Triangle\")"
   ]
  },
  {
   "cell_type": "code",
   "execution_count": 25,
   "id": "075a2764",
   "metadata": {},
   "outputs": [
    {
     "name": "stdout",
     "output_type": "stream",
     "text": [
      "Enter a number for which factorial is needed5\n",
      "120\n"
     ]
    }
   ],
   "source": [
    "# 3.Write a program that calculates the factorial of a given number using recursion.\n",
    "\n",
    "fact = (lambda x:1 if x==0 else x*fact(x-1))\n",
    "num = int(input(\"Enter a number for which factorial is needed\"))\n",
    "factorial = fact(num)\n",
    "\n",
    "print(factorial)"
   ]
  },
  {
   "cell_type": "code",
   "execution_count": 13,
   "id": "b7ff1b4d",
   "metadata": {},
   "outputs": [
    {
     "name": "stdout",
     "output_type": "stream",
     "text": [
      "Enter a number that you want to convert to binary: 20\n",
      "10100\n"
     ]
    }
   ],
   "source": [
    "# 4.Implement a program that converts a decimal number to binary.\n",
    "\n",
    "num = int(input(\"Enter a number that you want to convert to binary: \"))\n",
    "list1 = []\n",
    "x=0\n",
    "\n",
    "while num>0:\n",
    "    rem = num%2\n",
    "    num = int(num/2)\n",
    "    list1.append(rem)\n",
    "\n",
    "list1 = list1[ : : -1]\n",
    "list1 = [str(x) for x in list1]\n",
    "binary = int(\"\".join(list1))\n",
    "print(binary)\n",
    "    \n"
   ]
  },
  {
   "cell_type": "code",
   "execution_count": null,
   "id": "c42a799f",
   "metadata": {},
   "outputs": [],
   "source": []
  },
  {
   "cell_type": "code",
   "execution_count": 27,
   "id": "0e7e0ca1",
   "metadata": {},
   "outputs": [
    {
     "name": "stdout",
     "output_type": "stream",
     "text": [
      "Enter a number20\n",
      "The number 20 is not a prime number but the prime number less that 20 is 19 and larger is 23\n"
     ]
    }
   ],
   "source": [
    "# 6. When we want to find the nearest prime number we want to calculate the largest or the smallest\n",
    "\n",
    "def smaller(num):\n",
    "    \n",
    "    \n",
    "    while (num)>1:\n",
    "        num = num-1\n",
    "        prime = True\n",
    "        for i in range(2,num):\n",
    "            if num%i==0:\n",
    "                prime = False\n",
    "        if prime:\n",
    "            return num\n",
    "    \n",
    "def larger(num):\n",
    "    \n",
    "  \n",
    "    while (num):\n",
    "        num = num+1\n",
    "        prime = True\n",
    "        for i in range(2,num):\n",
    "            if num%i==0:\n",
    "                prime = False\n",
    "        if prime:\n",
    "            return num\n",
    "\n",
    "\n",
    "num = int(input(\"Enter a number\"))\n",
    "prime=True\n",
    "\n",
    "for i in range(2,num):\n",
    "    if num%i==0:\n",
    "        prime = False\n",
    "    break\n",
    "    \n",
    "if prime:\n",
    "    print(f\"The entered umber {num} is prime\")\n",
    "else:\n",
    "    small = smaller(num)\n",
    "    large = larger(num)\n",
    "    print(f'The number {num} is not a prime number but the prime number less that {num} is {small} and larger is {large}')\n",
    "    \n",
    "    \n"
   ]
  },
  {
   "cell_type": "code",
   "execution_count": 23,
   "id": "c73b53de",
   "metadata": {},
   "outputs": [
    {
     "name": "stdout",
     "output_type": "stream",
     "text": [
      "30\n",
      "29\n"
     ]
    }
   ],
   "source": [
    "def smaller(num):\n",
    "    \n",
    "    \n",
    "    while (num)>1:\n",
    "        num = num-1\n",
    "        prime = True\n",
    "        for i in range(2,num):\n",
    "            if num%i==0:\n",
    "                prime = False\n",
    "        if prime:\n",
    "            return num\n",
    "        \n",
    "num=30\n",
    "small = smaller(num)\n",
    "print(num)\n",
    "print(small)"
   ]
  },
  {
   "cell_type": "code",
   "execution_count": 24,
   "id": "07a62c5f",
   "metadata": {},
   "outputs": [
    {
     "name": "stdout",
     "output_type": "stream",
     "text": [
      "20\n",
      "23\n"
     ]
    }
   ],
   "source": [
    "def larger(num):\n",
    "    \n",
    "  \n",
    "    while (num):\n",
    "        num = num+1\n",
    "        prime = True\n",
    "        for i in range(2,num):\n",
    "            if num%i==0:\n",
    "                prime = False\n",
    "        if prime:\n",
    "            return num\n",
    "        \n",
    "num=20\n",
    "large = larger(num)\n",
    "print(num)\n",
    "print(large)"
   ]
  }
 ],
 "metadata": {
  "kernelspec": {
   "display_name": "Python 3 (ipykernel)",
   "language": "python",
   "name": "python3"
  },
  "language_info": {
   "codemirror_mode": {
    "name": "ipython",
    "version": 3
   },
   "file_extension": ".py",
   "mimetype": "text/x-python",
   "name": "python",
   "nbconvert_exporter": "python",
   "pygments_lexer": "ipython3",
   "version": "3.9.12"
  }
 },
 "nbformat": 4,
 "nbformat_minor": 5
}
